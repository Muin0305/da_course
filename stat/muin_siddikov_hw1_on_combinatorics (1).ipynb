{
 "cells": [
  {
   "cell_type": "markdown",
   "id": "c8aab152-91ed-4cf9-9ef6-a1f74857f6ab",
   "metadata": {},
   "source": [
    "Сиддиков Муин"
   ]
  },
  {
   "cell_type": "markdown",
   "id": "7216c72c-2536-4bbc-a0cd-edc6aca75c49",
   "metadata": {},
   "source": [
    "1. **Макс забыл пароль от своего телефона. Пароль состоял из пяти значений, каждое из которых может быть цифрой от 0 до 9. Сколько всего вариантов должен перебрать Макс, чтобы подобрать пароль к своему телефону?**"
   ]
  },
  {
   "cell_type": "code",
   "execution_count": 17,
   "id": "a67f5934-7ab0-4ba5-b541-44c09d376248",
   "metadata": {},
   "outputs": [
    {
     "name": "stdout",
     "output_type": "stream",
     "text": [
      "Всего 100000 вариантов должен перебрать Макс, чтобы подобрать пароль к своему телефону.\n"
     ]
    }
   ],
   "source": [
    "num_of_code = 5\n",
    "num_of_figures = 10 \n",
    "# используем размещения с повторяющимися элементами\n",
    "num_of_variants = 10**5\n",
    "print (f'Всего {num_of_variants} вариантов должен перебрать Макс, чтобы подобрать пароль к своему телефону.')"
   ]
  },
  {
   "cell_type": "markdown",
   "id": "961c2881-d40a-4bdf-b8b7-9e15f20bd9b9",
   "metadata": {},
   "source": [
    "2. **У Малики есть все семь книг серии о Гарри Поттере. Сколькими способами она может расставить эти книги на полке?**"
   ]
  },
  {
   "cell_type": "code",
   "execution_count": 22,
   "id": "7d383ca4-824d-40aa-9fa6-78bd9473ba17",
   "metadata": {},
   "outputs": [
    {
     "name": "stdout",
     "output_type": "stream",
     "text": [
      "5040 способами она может расставить эти книги на полке\n"
     ]
    }
   ],
   "source": [
    "import math\n",
    "num_of_books = 7\n",
    "num_of_ways = math.factorial(num_of_books)\n",
    "print (f'{num_of_ways} способами она может расставить эти книги на полке')"
   ]
  },
  {
   "cell_type": "markdown",
   "id": "487e473a-a3a6-49a1-9f66-bab7216f0bd3",
   "metadata": {},
   "source": [
    "3. **На окружности круга размещены 9 точек. Сколько можно провести линий, соединяющих эти точки?**"
   ]
  },
  {
   "cell_type": "code",
   "execution_count": 47,
   "id": "ad064a16-1775-4a51-951c-a4dcdd68b7fa",
   "metadata": {},
   "outputs": [
    {
     "name": "stdout",
     "output_type": "stream",
     "text": [
      "Можно провести 36.0 линий, соединяющих 9 точек на окружности круга\n"
     ]
    }
   ],
   "source": [
    "num_of_points = 9\n",
    "points_for_one_line = 2\n",
    "# тут порядок не имеет значения, так как линия А и В, и есть линия В и А\n",
    "num_of_lines = math.factorial(num_of_points)/(math.factorial(points_for_one_line)*math.factorial(num_of_points - points_for_one_line))\n",
    "print (F'Можно провести {num_of_lines} линий, соединяющих 9 точек на окружности круга')"
   ]
  },
  {
   "cell_type": "markdown",
   "id": "8e21a0d4-602c-4f47-a9b7-7cd95f3130b7",
   "metadata": {},
   "source": [
    "4. **Транс-Сибирская железнодорожная магистраль тянется от Москвы до Владивостока. Всего, магистраль состоит из 19 станций. На билете указывается станция отбытия и станция пребытия. Сколько всего вариантов билетов существует?**"
   ]
  },
  {
   "cell_type": "code",
   "execution_count": 66,
   "id": "d63121cc-8f65-47ec-bb78-37db8f0d6f11",
   "metadata": {},
   "outputs": [
    {
     "name": "stdout",
     "output_type": "stream",
     "text": [
      "Всего существует 342.0 различных варианта билетов для Транссибирской магистрали.\n"
     ]
    }
   ],
   "source": [
    "num_of_stations = 19\n",
    "departure_arrival = 2\n",
    "# порядок имеет значения\n",
    "kind_of_tickets = math.factorial(num_of_stations)/math.factorial(num_of_stations-departure_arrival)\n",
    "print (f'Всего существует {kind_of_tickets} различных варианта билетов для Транссибирской магистрали.')"
   ]
  },
  {
   "cell_type": "markdown",
   "id": "578aa1c9-f338-4c43-a125-7cd16ff20ae2",
   "metadata": {},
   "source": [
    "5. **Вы работаете в команде из 13 человек. Ваш менеджер решает рандомно выбрать 3 человек из команды и отправить на конференцию в Анталию, которая будет длится 4 дня. Какова вероятность того, что вам посчастливится поехать на конференцию?**"
   ]
  },
  {
   "cell_type": "code",
   "execution_count": 89,
   "id": "898ab81b-1926-484c-a9ad-5d384ac27d60",
   "metadata": {},
   "outputs": [
    {
     "name": "stdout",
     "output_type": "stream",
     "text": [
      "Вероятность того, что вы попадёте на конференцию, составляет около 23.08%.\n"
     ]
    }
   ],
   "source": [
    "num_of_coworkers = 13\n",
    "lucky_ones = 3\n",
    "# Сначала найдём, сколькими способами можно выбрать 3 человека из 13.\n",
    "common_outcomes = math.factorial(num_of_coworkers)/(math.factorial(lucky_ones)*math.factorial(num_of_coworkers-lucky_ones))\n",
    "# common_outcomes - общее количество случаев\n",
    "# теперь представим, что нас выбрали и должны выбрать 2 из 12\n",
    "favorable_outcomes = math.factorial(12)/(math.factorial(2)*math.factorial(12-2))\n",
    "# favorable_outcomes - благоприятные случаи\n",
    "probability_of_luck = favorable_outcomes/common_outcomes\n",
    "print (f'Вероятность того, что вы попадёте на конференцию, составляет около {probability_of_luck*100:.2f}%.')"
   ]
  },
  {
   "cell_type": "code",
   "execution_count": null,
   "id": "0795dc48-fa48-41b3-a2e6-227dfc555e72",
   "metadata": {},
   "outputs": [],
   "source": []
  },
  {
   "cell_type": "code",
   "execution_count": null,
   "id": "9d7fb545-9ab5-4de7-bdb2-e6458c60999b",
   "metadata": {},
   "outputs": [],
   "source": []
  },
  {
   "cell_type": "code",
   "execution_count": null,
   "id": "f9568c7e-e5d9-4a22-a144-dd3cf3529c9a",
   "metadata": {},
   "outputs": [],
   "source": []
  },
  {
   "cell_type": "code",
   "execution_count": null,
   "id": "9ab85373-bdbe-493e-9a7f-b12426d5c87b",
   "metadata": {},
   "outputs": [],
   "source": []
  },
  {
   "cell_type": "code",
   "execution_count": null,
   "id": "2703e3b0-3889-44ee-a966-627b2f9a16c8",
   "metadata": {},
   "outputs": [],
   "source": [
    "\n"
   ]
  }
 ],
 "metadata": {
  "kernelspec": {
   "display_name": "Python 3 (ipykernel)",
   "language": "python",
   "name": "python3"
  },
  "language_info": {
   "codemirror_mode": {
    "name": "ipython",
    "version": 3
   },
   "file_extension": ".py",
   "mimetype": "text/x-python",
   "name": "python",
   "nbconvert_exporter": "python",
   "pygments_lexer": "ipython3",
   "version": "3.12.7"
  }
 },
 "nbformat": 4,
 "nbformat_minor": 5
}
