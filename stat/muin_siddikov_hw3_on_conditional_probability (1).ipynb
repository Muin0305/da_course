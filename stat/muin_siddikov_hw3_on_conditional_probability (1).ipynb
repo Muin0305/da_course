{
 "cells": [
  {
   "cell_type": "markdown",
   "id": "8bd6701d-b8ee-448a-b01f-605d568d8b8a",
   "metadata": {},
   "source": [
    "**Сиддиков Мухин**"
   ]
  },
  {
   "cell_type": "code",
   "execution_count": 2,
   "id": "a740b659-8d44-4f1b-8a55-45a7ff0172dc",
   "metadata": {},
   "outputs": [],
   "source": [
    "import math"
   ]
  },
  {
   "cell_type": "markdown",
   "id": "0ab92035-1b7f-4a41-9fd8-59e682e1ea32",
   "metadata": {},
   "source": [
    "### Задача 1\n",
    "**В колоде 52 карты. Вы поочерёдно вытаскиваете из колоды две карты, без возврата. Какова вероятность того, что вы вытащите два туза?***\n"
   ]
  },
  {
   "cell_type": "code",
   "execution_count": 30,
   "id": "de7e0fb2-9718-4086-ab78-0172d79e9c2b",
   "metadata": {},
   "outputs": [
    {
     "name": "stdout",
     "output_type": "stream",
     "text": [
      "Вероятность того, что вы вытащите два туза равна = 0.004525\n"
     ]
    }
   ],
   "source": [
    "num_card=52\n",
    "chosen_card=2\n",
    "all_num_chosen=(num_card*51)/(chosen_card*1)\n",
    "blago_vibr=(4*3)/(2*1)\n",
    "P = blago_vibr/all_num_chosen\n",
    "print(f\"Вероятность того, что вы вытащите два туза равна = {P:2f}\")"
   ]
  },
  {
   "cell_type": "markdown",
   "id": "d57b427b-b244-48d3-b701-71edf6541761",
   "metadata": {},
   "source": [
    "### Задача 2\n",
    "**Ваш друг просыпается поздно в среднем четыре дня из пяти. Если он просыпается поздно, он опаздывает на работу с вероятностью 70%. Если же он просыпается вовремя, он опаздывает с вероятностью 10%. Какова вероятность того, что ваш друг опоздает на работу?**"
   ]
  },
  {
   "cell_type": "code",
   "execution_count": 16,
   "id": "0cd2e0d2-de75-482e-b381-8877a701cd4f",
   "metadata": {},
   "outputs": [
    {
     "name": "stdout",
     "output_type": "stream",
     "text": [
      "Вероятность того, что ваш друг опоздает на работу, равна = 0.58\n"
     ]
    }
   ],
   "source": [
    "P_wake_up_late=4/5\n",
    "P_wake_up_on_time=1-P_wake_up_late\n",
    "P_late_in_work_if_wake_up_late=0.7\n",
    "P_late_in_work_if_wake_up_on_time=0.1\n",
    "P_late_in_work=(P_late_in_work_if_wake_up_late*P_wake_up_late)+(P_late_in_work_if_wake_up_on_time*P_wake_up_on_time)\n",
    "print(f\"Вероятность того, что ваш друг опоздает на работу, равна = {P_late_in_work}\")"
   ]
  },
  {
   "cell_type": "markdown",
   "id": "b050ddcb-85dd-46d3-98b9-d0afb0cd6609",
   "metadata": {},
   "source": [
    "### Задача 3\n",
    "**В мешке содержатся 3 белых шара, 4 зелёных шара и 5 красных шаров. Вы вытаскиваете поочерёдно два шара из мешка, без возврата. Какова вероятность того, что вы вытащите зелёный и красный шары в любом порядке?**"
   ]
  },
  {
   "cell_type": "code",
   "execution_count": 38,
   "id": "f01b7d20-a387-4503-980f-c68f119a535c",
   "metadata": {},
   "outputs": [
    {
     "name": "stdout",
     "output_type": "stream",
     "text": [
      "Вероятность того, что вы вытащите зелёный и красный шары в любом порядке, равна = 0.303030\n"
     ]
    }
   ],
   "source": [
    "whight_balls=3\n",
    "green_balls=4\n",
    "red_balls=5\n",
    "pull_out=2\n",
    "sum_balls=red_balls+green_balls+whight_balls\n",
    "num_type_choose=math.factorial(sum_balls)\n",
    "a=math.factorial(pull_out)\n",
    "b= math.factorial(sum_balls-pull_out)\n",
    "c=a*b\n",
    "d=num_type_choose/c\n",
    "pull_out_green_balls_then_red_balls=(green_balls/sum_balls)*(red_balls/11)\n",
    "pull_out_red_balls_then_green_balls=(red_balls/sum_balls)*(green_balls/11)\n",
    "P_green_and_red_balls=pull_out_green_balls_then_red_balls+pull_out_red_balls_then_green_balls\n",
    "print(f\"Вероятность того, что вы вытащите зелёный и красный шары в любом порядке, равна = {P_green_and_red_balls:2f}\")\n",
    "\n"
   ]
  },
  {
   "cell_type": "markdown",
   "id": "01b7e3e4-833d-4656-a885-015329fcd2cd",
   "metadata": {},
   "source": [
    "### Задача 4\n",
    "**На фабрике по производству чипсов 98% всех упаковок содержат вкусовые добавки. В рамках испытаний, группе добровольцев было предложено попробовать чипсы и определить имеются ли в них вкусовые добавки. 99% испытуемых попробовав чипсы со вкусовыми добавками ответили \"Да\". При этом, 2.5% испытуемых, которым были поданы чипсы без вкусовых добавок, также ответили \"Да\" . Если попробовав рандомно выбранную упаковку, испытуемый отвечает \"Нет\", какова вероятность того что чипсы действительно не содержат вкусовых добавок?**"
   ]
  },
  {
   "cell_type": "code",
   "execution_count": 43,
   "id": "d9e02d79-fea3-4888-9abc-74a1caa5cb97",
   "metadata": {},
   "outputs": [
    {
     "name": "stdout",
     "output_type": "stream",
     "text": [
      "Вероятность того, что чипсы действительно не содержат вкусовых добавок, если испытуемый ответил 'Нет' составляет 0.665529\n"
     ]
    }
   ],
   "source": [
    "P_add_taste=0.98\n",
    "P_not_add_taste=0.02\n",
    "P_say_no1=1-.99\n",
    "P_say_no2=1-.025\n",
    "P_say_no=(P_say_no1*P_add_taste)+(P_say_no2*P_not_add_taste)\n",
    "P_not_add_taste_say_no=(P_say_no2*P_not_add_taste)/(P_say_no)\n",
    "print(f\"Вероятность того, что чипсы действительно не содержат вкусовых добавок, если испытуемый ответил 'Нет' составляет {P_not_add_taste_say_no:2f}\")\n"
   ]
  },
  {
   "cell_type": "markdown",
   "id": "c1e3b0a6-7b71-4d1f-be2b-4a317a3e3ca8",
   "metadata": {},
   "source": [
    "### Задача 5\n",
    "**Известно что движок некоей модели автомобиля перегревается в 3% случаев. При перегреве движка, в 98% случаев включается индикатор оповещения. Однако, в 1% случаев, индикатор включается без перегрева. Ответьте на следующие вопросы:\n",
    "какова вероятность включения индикатора?\n",
    "если водитель видит включённый индикатор, какова вероятность того что движок действительно перегрелся?**"
   ]
  },
  {
   "cell_type": "code",
   "execution_count": 63,
   "id": "ce667777-b7ed-4d9d-9862-e9c10e4624ec",
   "metadata": {},
   "outputs": [
    {
     "name": "stdout",
     "output_type": "stream",
     "text": [
      "1.Вероятность включения индикатора= 0.039100\n",
      "2.Если индикатор включён, вероятность того, что двигатель действительно перегрелся, составляет=0.751918\n"
     ]
    }
   ],
   "source": [
    "P_heat_motor=0.03\n",
    "P_indicator_in_heat_motor=0.98\n",
    "P_lying_indicator=0.01\n",
    "P= (P_indicator_in_heat_motor*P_heat_motor)+(P_lying_indicator*(1-P_heat_motor))\n",
    "P_indicator_in_heat_motor=(P_indicator_in_heat_motor*P_heat_motor)/(P)\n",
    "print(f\"1.Вероятность включения индикатора= {P:2f}\")\n",
    "print(f\"2.Если индикатор включён, вероятность того, что двигатель действительно перегрелся, составляет={P_indicator_in_heat_motor:2f}\")"
   ]
  },
  {
   "cell_type": "code",
   "execution_count": null,
   "id": "29384e21-76dd-43a4-9d8c-9b0460255bd1",
   "metadata": {},
   "outputs": [],
   "source": []
  },
  {
   "cell_type": "code",
   "execution_count": null,
   "id": "e1b8e060-4628-4e64-a14b-83007e476950",
   "metadata": {},
   "outputs": [],
   "source": []
  },
  {
   "cell_type": "code",
   "execution_count": null,
   "id": "d6e1485a-d37f-4dec-a0e0-085c99a1870b",
   "metadata": {},
   "outputs": [],
   "source": []
  },
  {
   "cell_type": "code",
   "execution_count": null,
   "id": "5c362ff0-8197-4369-88b0-d98592ae1264",
   "metadata": {},
   "outputs": [],
   "source": []
  }
 ],
 "metadata": {
  "kernelspec": {
   "display_name": "Python 3 (ipykernel)",
   "language": "python",
   "name": "python3"
  },
  "language_info": {
   "codemirror_mode": {
    "name": "ipython",
    "version": 3
   },
   "file_extension": ".py",
   "mimetype": "text/x-python",
   "name": "python",
   "nbconvert_exporter": "python",
   "pygments_lexer": "ipython3",
   "version": "3.12.7"
  }
 },
 "nbformat": 4,
 "nbformat_minor": 5
}
