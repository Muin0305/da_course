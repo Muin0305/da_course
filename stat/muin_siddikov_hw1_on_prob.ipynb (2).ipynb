{
 "cells": [
  {
   "cell_type": "markdown",
   "id": "c6802efc-dbfb-4af6-a9e7-41dd25e6260e",
   "metadata": {},
   "source": [
    "**Сиддиков Муин**"
   ]
  },
  {
   "cell_type": "markdown",
   "id": "73c0ce69-6761-4eec-84a0-00a928a74b58",
   "metadata": {},
   "source": [
    "### Задача 1"
   ]
  },
  {
   "cell_type": "markdown",
   "id": "21dbb072-2800-4560-be60-0ae7d2528b6f",
   "metadata": {},
   "source": [
    "В колоде 52 карты. Мы решили вытащить из неё одну карту. Какова вероятность того, что это будет туз?"
   ]
  },
  {
   "cell_type": "code",
   "execution_count": 48,
   "id": "d9f111ae-b6b3-4bac-a157-a1738afdda96",
   "metadata": {},
   "outputs": [
    {
     "name": "stdout",
     "output_type": "stream",
     "text": [
      "Вероятность вытащить туз из колоды карт: 0.08\n"
     ]
    }
   ],
   "source": [
    "deck_size = 52\n",
    "kings_count = 4\n",
    "p_king = kings_count / deck_size\n",
    "print(f\"Вероятность вытащить туз из колоды карт: {p_king:.2f}\")"
   ]
  },
  {
   "cell_type": "markdown",
   "id": "5e4d50b5-825f-47b9-950f-2212f23089c1",
   "metadata": {},
   "source": [
    "### Задача 2"
   ]
  },
  {
   "cell_type": "markdown",
   "id": "d33e337a-1c0f-4b34-bc5a-53c80d6b9302",
   "metadata": {},
   "source": [
    "Какова вероятность того что у трёх случайно выбранных людей будет одинаковая группа крови? \n",
    "Подсказка: для решения этой задачи нужно использовать как правило умножения так и правило сложения."
   ]
  },
  {
   "cell_type": "code",
   "execution_count": 45,
   "id": "50c0e618-a176-4b2c-a7a1-000012230bea",
   "metadata": {},
   "outputs": [
    {
     "name": "stdout",
     "output_type": "stream",
     "text": [
      "Вероятность того что у трёх случайно выбранных людей будет одинаковая группа крови: 0.25\n"
     ]
    }
   ],
   "source": [
    "# Допустим первый человек имеет группа крови А. Вероятность составляет 1.\n",
    "Prob_1 = 1\n",
    "# вероятность того, что второй и третий человек имеют тоже эту группу составляет 1/4, так как есть 4 группы крови\n",
    "Prob_2 = 1/4\n",
    "Prob_3 = 1/4\n",
    "# теперь чтобы оперделить наличие одна группа крови используем умножения\n",
    "Prob = Prob_1 * Prob_2 * Prob_3\n",
    "# и чтобы определить вероятность того что у трёх случайно выбранных людей будет одинаковая группа крови используем правила сложения\n",
    "gen_prob = Prob * 4\n",
    "print (f'Вероятность того что у трёх случайно выбранных людей будет одинаковая группа крови: {gen_prob}')"
   ]
  },
  {
   "cell_type": "markdown",
   "id": "f35b10f9-3437-4852-9663-6dea49d048d6",
   "metadata": {},
   "source": [
    "### Задача 3\n"
   ]
  },
  {
   "cell_type": "markdown",
   "id": "c8a701db-d6a1-47d8-9d7f-4a5e1782623b",
   "metadata": {},
   "source": [
    "Студент, сдаёт тест состоящий из 30 вопросов с четырьмя вариантами ответов, из которых лишь один правильный. Так как он вообще не посещал лекции, он просто наугад выбирает один из вариантов для каждого вопроса. Какова вероятность что он правильно ответит хотя бы на один вопрос?"
   ]
  },
  {
   "cell_type": "code",
   "execution_count": 43,
   "id": "1a5f49e5-4a6e-488a-86e8-34d1bbcff986",
   "metadata": {},
   "outputs": [
    {
     "name": "stdout",
     "output_type": "stream",
     "text": [
      "Вероятность что он правильно ответит хотя бы на один вопрос: 0.9998\n"
     ]
    }
   ],
   "source": [
    "# сначала найдём вероятность того, что он ответить на один вопрос неправильно\n",
    "# для этого используем правила комплементарности и так как все вопросы имеют 4 варианта\n",
    "Pro_one_wrong = 1 - (1/4)\n",
    "# возводим на степень 30, так как у студента 30 вопросов\n",
    "Pro_all_wrong = Pro_one_wrong ** 30\n",
    "Pro_one_right = round ((1 - Pro_all_wrong), 4)\n",
    "# вероятность того, что он правильно ответит хотя бы на один вопрос\n",
    "print (f'Вероятность что он правильно ответит хотя бы на один вопрос: {Pro_one_right}')"
   ]
  },
  {
   "cell_type": "markdown",
   "id": "897dd419-6d12-423a-967e-1ddc4dd7641b",
   "metadata": {},
   "source": [
    "### Задача 4\n"
   ]
  },
  {
   "cell_type": "markdown",
   "id": "0c3eecc8-4fbe-4d5e-baef-c16ab41b8a2a",
   "metadata": {},
   "source": [
    "Какова вероятность что хотя бы у одного из двух случайно выбранных людей месяц рождения такой же как и у вас?"
   ]
  },
  {
   "cell_type": "code",
   "execution_count": 37,
   "id": "17c6e91a-ff9d-4177-854f-1592aa103480",
   "metadata": {},
   "outputs": [
    {
     "name": "stdout",
     "output_type": "stream",
     "text": [
      "Вероятность того, что хотя бы у одного из двух случайно выбранных людей месяц рождения такой же как и у вас: 0.16\n"
     ]
    }
   ],
   "source": [
    "# Какова вероятность что хотя бы у одного из двух случайно выбранных людей месяц рождения такой же как и у вас?\n",
    "# Так как один год состоит из 12 месяцев, с начала найдём вероятность того, что месяц рождения не совпадает:\n",
    "First_per = 11/12\n",
    "Second_per = 11/12\n",
    "# чтобы найти вероятность того, что хотя бы у одного из них месяц рождения такой же как и у вас:\n",
    "Both_of_them = First_per * Second_per\n",
    "# используем правила комплементарности\n",
    "Prob = round ((1 - Both_of_them), 2)\n",
    "print (f'Вероятность того, что хотя бы у одного из двух случайно выбранных людей месяц рождения такой же как и у вас: {Prob}')"
   ]
  },
  {
   "cell_type": "markdown",
   "id": "b1a25105-c72d-4f7a-b5b9-2df249e60f34",
   "metadata": {},
   "source": [
    "### Задача 5"
   ]
  },
  {
   "cell_type": "markdown",
   "id": "0e0d55e5-8070-48d2-9461-8656e29d1969",
   "metadata": {},
   "source": [
    "В колоде 52 карты. Мы решили вытащить из неё одну карту. Какова вероятность того что это будет либо валет, либо пиковая карта?"
   ]
  },
  {
   "cell_type": "code",
   "execution_count": 57,
   "id": "18932f55-956a-4fa3-b113-b9e38743b8dd",
   "metadata": {},
   "outputs": [
    {
     "name": "stdout",
     "output_type": "stream",
     "text": [
      "Вероятность того что это будет либо валет, либо пиковая карта:  0.3077\n"
     ]
    }
   ],
   "source": [
    "# вероятность того, что будеть валет равен:\n",
    "deck_size = 52\n",
    "jack_count = 4\n",
    "prob_jack = jack_count / deck_size\n",
    "#вероятность того, что будеть пикова:\n",
    "sort_of_card = 4\n",
    "prob_spades = 13/52\n",
    "# найдём вероятность того, что будет пиковый валет:\n",
    "p_spa_jack = 1/deck_size\n",
    "# используем правило сложения для совместимых решений:\n",
    "p_spa_or_jack = (prob_jack + prob_spades - p_spa_jack)\n",
    "p_spa_or_jack\n",
    "print (f'Вероятность того что это будет либо валет, либо пиковая карта: {p_spa_or_jack: .4f}')"
   ]
  },
  {
   "cell_type": "code",
   "execution_count": null,
   "id": "dc0e3ffa-6f73-4583-8151-536c5b3cd490",
   "metadata": {},
   "outputs": [],
   "source": []
  },
  {
   "cell_type": "code",
   "execution_count": null,
   "id": "afbe0b7b-ee6d-4e6a-8067-f06192a236a8",
   "metadata": {},
   "outputs": [],
   "source": []
  },
  {
   "cell_type": "code",
   "execution_count": null,
   "id": "073d0eed-0950-4648-97a4-5abbb319221b",
   "metadata": {},
   "outputs": [],
   "source": []
  }
 ],
 "metadata": {
  "kernelspec": {
   "display_name": "Python 3 (ipykernel)",
   "language": "python",
   "name": "python3"
  },
  "language_info": {
   "codemirror_mode": {
    "name": "ipython",
    "version": 3
   },
   "file_extension": ".py",
   "mimetype": "text/x-python",
   "name": "python",
   "nbconvert_exporter": "python",
   "pygments_lexer": "ipython3",
   "version": "3.12.7"
  }
 },
 "nbformat": 4,
 "nbformat_minor": 5
}
