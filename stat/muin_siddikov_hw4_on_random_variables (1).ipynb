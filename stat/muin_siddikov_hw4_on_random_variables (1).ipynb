{
 "cells": [
  {
   "cell_type": "markdown",
   "id": "61ace160-e0cd-4ef2-8e8d-2204ce11a5c7",
   "metadata": {},
   "source": [
    "**Сиддиков Мухин**"
   ]
  },
  {
   "cell_type": "code",
   "execution_count": 3,
   "id": "2fb46422-a301-4084-a06f-59d8b391e566",
   "metadata": {},
   "outputs": [],
   "source": [
    "from math import factorial"
   ]
  },
  {
   "cell_type": "markdown",
   "id": "f8fde0c6-5ae7-4756-ab8e-84ffc95355ea",
   "metadata": {},
   "source": [
    "### Задача 1\n",
    "**Четыре монеты подбрасываются разом. Если переменная X это количество полученных орлов, то чему равен P(X=2)?**"
   ]
  },
  {
   "cell_type": "code",
   "execution_count": 16,
   "id": "6edc967e-89c9-4352-9155-590acecaceb4",
   "metadata": {},
   "outputs": [
    {
     "name": "stdout",
     "output_type": "stream",
     "text": [
      "Вероятность того, что ровно 2 монеты из 4 выпадут орлами, равна= 0.375\n"
     ]
    }
   ],
   "source": [
    "num_throws=4\n",
    "num_orel=2\n",
    "p=1/2\n",
    "P=(factorial(num_throws))/(factorial(num_orel)*(factorial(num_throws-num_orel)))\n",
    "X=2\n",
    "P1=P*((p)**(X))*((1-(p))**(num_throws-X))\n",
    "print(f\"Вероятность того, что ровно 2 монеты из 4 выпадут орлами, равна= {P1}\")"
   ]
  },
  {
   "cell_type": "markdown",
   "id": "8669d798-ba85-4e74-98f9-c5edbb518043",
   "metadata": {},
   "source": [
    "### Задача 2\n",
    "**Четыре монеты подбрасываются разом. Если переменная X это количество полученных орлов, то чему равен P(X≥1)?**"
   ]
  },
  {
   "cell_type": "code",
   "execution_count": 19,
   "id": "97206102-90ac-4fc5-aca9-69ea7a60c323",
   "metadata": {},
   "outputs": [
    {
     "name": "stdout",
     "output_type": "stream",
     "text": [
      "Вероятность того, что хотя бы одна монета выпадет орлом (P(X≥1)) равна = 0.9375\n"
     ]
    }
   ],
   "source": [
    "num_coin=4\n",
    "p=1/2\n",
    "P_x_equal_0=(p)**(num_coin)\n",
    "P_x_more_than_1=1-P_x_equal_0\n",
    "print(f\"Вероятность того, что хотя бы одна монета выпадет орлом (P(X≥1)) равна = {P_x_more_than_1}\")"
   ]
  },
  {
   "cell_type": "markdown",
   "id": "ace40f1b-72a3-4fc8-9c4b-a935b1f51338",
   "metadata": {},
   "source": [
    "### Задача 3\n",
    "**Вероятность того, что у рандомного человека группа крови А составляет 40%. Выберем случайным образом 4 человек и пусть случайная величина X будет количеством людей с типом крови А. Постройте биномиальное распределение этого эксперимента.**"
   ]
  },
  {
   "cell_type": "code",
   "execution_count": 28,
   "id": "c4dea2ed-6333-49cd-bf58-315d6408a1f0",
   "metadata": {},
   "outputs": [
    {
     "name": "stdout",
     "output_type": "stream",
     "text": [
      "Биномиальное распределение для случайной величины 𝑋=0 равно = 0.1296\n",
      "Биномиальное распределение для случайной величины 𝑋=1 равно = 0.34559999999999996\n",
      "Биномиальное распределение для случайной величины 𝑋=2 равно = 0.3456000000000001\n",
      "Биномиальное распределение для случайной величины 𝑋=3 равно = 0.15360000000000004\n",
      "Биномиальное распределение для случайной величины 𝑋=4 равно = 0.025600000000000005\n",
      "Проверка = 1.0\n"
     ]
    }
   ],
   "source": [
    "p_A=0.4\n",
    "num_human=4\n",
    "n=0\n",
    "P=factorial(num_human)/(factorial(n)*(factorial(num_human-n)))\n",
    "P0=P*(p_A)**(n)*(1-p_A)**(num_human-n)\n",
    "print(f\"Биномиальное распределение для случайной величины 𝑋=0 равно = {P0}\")\n",
    "n=1\n",
    "P=factorial(num_human)/(factorial(n)*(factorial(num_human-n)))\n",
    "P1=P*(p_A)**(n)*(1-p_A)**(num_human-n)\n",
    "print(f\"Биномиальное распределение для случайной величины 𝑋=1 равно = {P1}\")\n",
    "n=2\n",
    "P=factorial(num_human)/(factorial(n)*(factorial(num_human-n)))\n",
    "P2=P*(p_A)**(n)*(1-p_A)**(num_human-n)\n",
    "print(f\"Биномиальное распределение для случайной величины 𝑋=2 равно = {P2}\")\n",
    "n=3\n",
    "P=factorial(num_human)/(factorial(n)*(factorial(num_human-n)))\n",
    "P3=P*(p_A)**(n)*(1-p_A)**(num_human-n)\n",
    "print(f\"Биномиальное распределение для случайной величины 𝑋=3 равно = {P3}\")\n",
    "n=4\n",
    "P=factorial(num_human)/(factorial(n)*(factorial(num_human-n)))\n",
    "P4=P*(p_A)**(n)*(1-p_A)**(num_human-n)\n",
    "print(f\"Биномиальное распределение для случайной величины 𝑋=4 равно = {P4}\")\n",
    "s=P0+P1+P2+P3+P4\n",
    "print(f\"Проверка = {s}\")"
   ]
  },
  {
   "cell_type": "markdown",
   "id": "f681af17-4ec8-4cc8-9e10-8b213d5fbc8f",
   "metadata": {},
   "source": [
    "### Задача 4\n",
    "***Известно, что на сайте компании в час в среднем происходит 10 продаж. Какова вероятность того что в любой выбранный час количество продаж составит 8 штук?***"
   ]
  },
  {
   "cell_type": "code",
   "execution_count": 46,
   "id": "20a3fb08-44e0-4020-8242-7cae5ac76c42",
   "metadata": {},
   "outputs": [
    {
     "name": "stdout",
     "output_type": "stream",
     "text": [
      "Вероятность того, что в любой выбранный час произойдёт ровно 8 продаж, равно = 0.112600\n"
     ]
    }
   ],
   "source": [
    "Aver_num_sale_hour=10\n",
    "need_to_sale=8\n",
    "e=2.71828\n",
    "P=Aver_num_sale_hour**need_to_sale\n",
    "e1=(e)**(-Aver_num_sale_hour)\n",
    "F=factorial(need_to_sale)\n",
    "P1=(P*e1)/F\n",
    "print(f\"Вероятность того, что в любой выбранный час произойдёт ровно 8 продаж, равно = {P1:2f}\")\n",
    "\n"
   ]
  },
  {
   "cell_type": "markdown",
   "id": "15ab3cc4-1bd2-45bb-8769-a54a48a9e1b2",
   "metadata": {},
   "source": [
    "### Задача 5\n",
    "**Игрок в баскетбол исполняет успешно 60% штрафных бросков. Если он выполнит 12 штрафных бросков, какова вероятность того, что он попадёт в цель ровно 10 раз?**"
   ]
  },
  {
   "cell_type": "code",
   "execution_count": 51,
   "id": "e0105f22-730e-48e6-926c-7b7a290aa562",
   "metadata": {},
   "outputs": [
    {
     "name": "stdout",
     "output_type": "stream",
     "text": [
      "Вероятность того, что игрок попадёт ровно 10 раз из 12 бросков, равно = 0.063852\n"
     ]
    }
   ],
   "source": [
    "num_free_throws=12\n",
    "num_succ_throws=10\n",
    "P_succes=0.6\n",
    "P=(factorial(num_free_throws))/(factorial(num_succ_throws)*factorial(num_free_throws-num_succ_throws))\n",
    "P_equal_10=P*((P_succes)**(num_succ_throws))*((1-P_succes)**(num_free_throws-num_succ_throws))\n",
    "print(f\"Вероятность того, что игрок попадёт ровно 10 раз из 12 бросков, равно = {P_equal_10:2f}\")"
   ]
  },
  {
   "cell_type": "code",
   "execution_count": null,
   "id": "5e006aa7-1b67-4b24-b44f-7434d87d79a3",
   "metadata": {},
   "outputs": [],
   "source": []
  }
 ],
 "metadata": {
  "kernelspec": {
   "display_name": "Python 3 (ipykernel)",
   "language": "python",
   "name": "python3"
  },
  "language_info": {
   "codemirror_mode": {
    "name": "ipython",
    "version": 3
   },
   "file_extension": ".py",
   "mimetype": "text/x-python",
   "name": "python",
   "nbconvert_exporter": "python",
   "pygments_lexer": "ipython3",
   "version": "3.12.7"
  }
 },
 "nbformat": 4,
 "nbformat_minor": 5
}
