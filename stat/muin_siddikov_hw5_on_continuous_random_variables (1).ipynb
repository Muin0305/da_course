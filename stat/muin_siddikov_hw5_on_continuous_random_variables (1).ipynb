{
 "cells": [
  {
   "cell_type": "markdown",
   "id": "7295a574-061a-4056-80eb-95c2c408522b",
   "metadata": {},
   "source": [
    "**Сиддиков Мухин**"
   ]
  },
  {
   "cell_type": "markdown",
   "id": "0a204e27-427a-4bec-93ee-c796c535acc4",
   "metadata": {},
   "source": [
    "### Задача 1\n",
    "Есть переменная X с нормальным распределением. Если стандартизированное значение X равно 1.27 (z = 1.27), то какова вероятность \n",
    "𝑃(𝑍≤1.27)?"
   ]
  },
  {
   "cell_type": "code",
   "execution_count": 14,
   "id": "b82fcb9f-2aa5-49ff-a437-fd1caed6d388",
   "metadata": {},
   "outputs": [
    {
     "name": "stdout",
     "output_type": "stream",
     "text": [
      "P(Z ≤ 1.27) = 0.8980\n"
     ]
    }
   ],
   "source": [
    "from scipy.stats import norm\n",
    "\n",
    "z = 1.27\n",
    "probability = norm.cdf(z)\n",
    "\n",
    "print(f\"P(Z ≤ {z}) = {probability:.4f}\")\n"
   ]
  },
  {
   "cell_type": "markdown",
   "id": "b6720363-1ac1-4fa4-88af-57ee65af3489",
   "metadata": {},
   "source": [
    "### Задача 2\n",
    "Допустим что Z это переменная со стандартным нормальным распределением. Какова вероятность \n",
    "𝑃(−1.76<𝑍<−1.19)?"
   ]
  },
  {
   "cell_type": "code",
   "execution_count": 17,
   "id": "f37966a6-6bc1-4faa-ada9-faeee9dd2433",
   "metadata": {},
   "outputs": [
    {
     "name": "stdout",
     "output_type": "stream",
     "text": [
      "P(-1.76 < Z < -1.19) = 0.0778\n"
     ]
    }
   ],
   "source": [
    "\n",
    "p1 = norm.cdf(-1.19) \n",
    "p2 = norm.cdf(-1.76)  \n",
    "\n",
    "probability = p1 - p2\n",
    "print(f\"P(-1.76 < Z < -1.19) = {probability:.4f}\")\n"
   ]
  },
  {
   "cell_type": "markdown",
   "id": "97a13c34-aeda-48e8-9e3a-6318afacb5f9",
   "metadata": {},
   "source": [
    "### Задача 3\n",
    "У 95.45% девушек старших классов, вес находится в диапазоне от 38кг до 52кг. Если предположить, что вес девушек распределён нормально, найдите среднее значение и стандартное отклонение."
   ]
  },
  {
   "cell_type": "code",
   "execution_count": 21,
   "id": "ec527b57-2cb0-431a-a6cb-41790fd512cc",
   "metadata": {},
   "outputs": [
    {
     "name": "stdout",
     "output_type": "stream",
     "text": [
      "Средний вес (mu): 45.0 кг\n",
      "Стандартное отклонение (sigma): 3.5 кг\n"
     ]
    }
   ],
   "source": [
    "x_min = 38  \n",
    "x_max = 52  \n",
    "z_score = 2  \n",
    "\n",
    "mu = (x_min + x_max) / 2\n",
    "sigma = (x_max - mu) / z_score\n",
    "\n",
    "\n",
    "print(f\"Средний вес (mu): {mu} кг\")\n",
    "print(f\"Стандартное отклонение (sigma): {sigma} кг\")"
   ]
  },
  {
   "cell_type": "markdown",
   "id": "f848ef32-dd13-409d-8ef3-2e7009e32495",
   "metadata": {},
   "source": [
    "### Задача 4\n",
    "Длина указательного пальца взрослых мужчин примерно соответствует нормальному распределению, с 𝜇=7.5𝑐𝑚 и 𝜎=0.5𝑐𝑚. Какова вероятность того, что длина указательного пальца случайно выбранного мужчины будет в диапазоне от 7.3см до 8,7см?"
   ]
  },
  {
   "cell_type": "code",
   "execution_count": 24,
   "id": "446f28c1-0575-4000-81d7-38222259ec3e",
   "metadata": {},
   "outputs": [
    {
     "name": "stdout",
     "output_type": "stream",
     "text": [
      "P(7.3 ≤ X ≤ 8.7) = 0.6472\n"
     ]
    }
   ],
   "source": [
    "\n",
    "mu = 7.5 \n",
    "sigma = 0.5  \n",
    "\n",
    "p1 = norm.cdf(7.3, mu, sigma) \n",
    "p2 = norm.cdf(8.7, mu, sigma) \n",
    "\n",
    "probability = p2 - p1\n",
    "print(f\"P(7.3 ≤ X ≤ 8.7) = {probability:.4f}\")"
   ]
  },
  {
   "cell_type": "markdown",
   "id": "61b964d7-ff0f-4863-82fd-3926a74effd1",
   "metadata": {},
   "source": [
    "### Задача 5\n",
    "IQ человека является нормально распределённой величиной с 𝜇=100 и 𝜎=15. Какова вероятность того, что у случайно выбранного человека IQ будет выше 140?"
   ]
  },
  {
   "cell_type": "code",
   "execution_count": 31,
   "id": "bb4d414e-c25d-47bc-bfed-981d568bf095",
   "metadata": {},
   "outputs": [
    {
     "name": "stdout",
     "output_type": "stream",
     "text": [
      "P(X > 140) = 0.0038\n"
     ]
    }
   ],
   "source": [
    "mu = 100  \n",
    "sigma = 15  \n",
    "\n",
    "\n",
    "p = 1 - norm.cdf(140, mu, sigma)\n",
    "\n",
    "print(f\"P(X > 140) = {p:.4f}\")"
   ]
  },
  {
   "cell_type": "code",
   "execution_count": null,
   "id": "b42bc1b0-41ae-4145-aaff-73081a158ceb",
   "metadata": {},
   "outputs": [],
   "source": []
  },
  {
   "cell_type": "code",
   "execution_count": null,
   "id": "71447923-4c20-435b-b759-607cd2015b8a",
   "metadata": {},
   "outputs": [],
   "source": []
  }
 ],
 "metadata": {
  "kernelspec": {
   "display_name": "Python 3 (ipykernel)",
   "language": "python",
   "name": "python3"
  },
  "language_info": {
   "codemirror_mode": {
    "name": "ipython",
    "version": 3
   },
   "file_extension": ".py",
   "mimetype": "text/x-python",
   "name": "python",
   "nbconvert_exporter": "python",
   "pygments_lexer": "ipython3",
   "version": "3.12.7"
  }
 },
 "nbformat": 4,
 "nbformat_minor": 5
}
